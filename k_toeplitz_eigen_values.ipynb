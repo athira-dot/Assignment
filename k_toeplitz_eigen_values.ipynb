{
  "nbformat": 4,
  "nbformat_minor": 0,
  "metadata": {
    "colab": {
      "name": "k-toeplitz_eigen values.ipynb",
      "provenance": [],
      "authorship_tag": "ABX9TyMSpKwBELQSVBzSC7eOH1Du",
      "include_colab_link": true
    },
    "kernelspec": {
      "name": "python3",
      "display_name": "Python 3"
    },
    "language_info": {
      "name": "python"
    }
  },
  "cells": [
    {
      "cell_type": "markdown",
      "metadata": {
        "id": "view-in-github",
        "colab_type": "text"
      },
      "source": [
        "<a href=\"https://colab.research.google.com/github/athira-dot/Assignment/blob/main/k_toeplitz_eigen_values.ipynb\" target=\"_parent\"><img src=\"https://colab.research.google.com/assets/colab-badge.svg\" alt=\"Open In Colab\"/></a>"
      ]
    },
    {
      "cell_type": "markdown",
      "metadata": {
        "id": "K7SIQxx1GyCV"
      },
      "source": [
        "Code to find the eigen values of k-toeplitz matrices using chebyshev approximation"
      ]
    },
    {
      "cell_type": "code",
      "metadata": {
        "id": "pRP-0ZxVG7GY"
      },
      "source": [
        "import numpy as np\n",
        "import scipy.linalg as sc\n",
        "import matplotlib.pyplot as plt\n",
        "import cmath"
      ],
      "execution_count": 1,
      "outputs": []
    },
    {
      "cell_type": "code",
      "metadata": {
        "id": "Zi3PmJqgHA8e"
      },
      "source": [
        "def k_toeplitz_matrix(diag_k,u_k,l_k,t):\n",
        "  #creating the k-toeplitz matriX\n",
        "  #k - chain length\n",
        "  #one chain of diagonal -diag_k\n",
        "  k=np.size(diag_k)\n",
        "  n=int(k*t)\n",
        "  diag=[]\n",
        "\n",
        "  for i in range(t):\n",
        "    diag=np.concatenate((diag,diag_k))\n",
        "\n",
        "  A=np.diag(diag)  #k_toeplitz matrix we want to create\n",
        "\n",
        "# creating upper diagonal entries\n",
        "\n",
        "  upper_diag=[]\n",
        "  for i in range(t):\n",
        "    upper_diag=np.concatenate((upper_diag,u_k))\n",
        "  upper_diag=upper_diag[:n-1]\n",
        "\n",
        "# creating lower diagonal entries\n",
        "\n",
        "  lower_diag=[]\n",
        "  for i in range(t):\n",
        "    lower_diag=np.concatenate((lower_diag,l_k))\n",
        "  lower_diag=lower_diag[:n-1]\n",
        "\n",
        "#FILLING UPPER DIAGONAL\n",
        "\n",
        "  for i in range(n-1):\n",
        "    A[i][i+1]=upper_diag[i]\n",
        "\n",
        "#FILLING LOWER DIAGONAL\n",
        "\n",
        "  for i in range(n-1):\n",
        "    A[i+1][i]=lower_diag[i]\n",
        "\n",
        "  return(A)\n",
        "  "
      ],
      "execution_count": 2,
      "outputs": []
    },
    {
      "cell_type": "code",
      "metadata": {
        "id": "Evce2N_eHGLj"
      },
      "source": [
        "def qgamma(diag_k,u_k,l_k,k):    #to find gamma  and  Qk(z)\n",
        "  a=diag_k\n",
        "  p=np.multiply(u_k,l_k)\n",
        "  Aim11 =1\n",
        "  Aim12 =0\n",
        "  Aim13 =0\n",
        "  Aim14 =1\n",
        "  for i in range(k):\n",
        "    Ai1 = [1,a[i]]\n",
        "    Ai2 = [0,-p[i]]\n",
        "    Ai3 = [0,1]\n",
        "    Ai4 =  [0,0]\n",
        "    P1 = np.convolve(Aim11,Ai1) +np.convolve(Aim12,Ai3)\n",
        "    P2 = np.convolve(Aim11,Ai2) +np.convolve(Aim12,Ai4)\n",
        "    P3 = np.convolve(Aim13,Ai1) +np.convolve(Aim14,Ai3)\n",
        "    P4 = np.convolve(Aim13,Ai2) +np.convolve(Aim14,Ai4)\n",
        "    Aim11 = P1\n",
        "    Aim12 = P2\n",
        "    Aim13 = P3\n",
        "    Aim14 = P4\n",
        "    #print(P1,P2,P3,P4)\n",
        "    \n",
        "  q=P1+P4  #trace of Uk\n",
        "  gamma1=-np.prod(p)  #gamma1 is the negative of the determinant of Uk\n",
        "  P4=np.array(P4)\n",
        "  return(q,gamma1)"
      ],
      "execution_count": 3,
      "outputs": []
    },
    {
      "cell_type": "code",
      "metadata": {
        "id": "4a02047MHLM6"
      },
      "source": [
        "def chebeig(diag_k,u_k,l_k,k,t):      \n",
        "  n=int(k*t)\n",
        "  q,g=qgamma(diag_k,u_k,l_k,k)\n",
        "  #print(diag_k)\n",
        "  q=np.array(q,dtype=\"complex\")\n",
        "  #print(q,g)\n",
        "  tnroots=np.zeros(int(n/k),dtype=np.complex)\n",
        "  for l in range(1,int(n/k)+1):\n",
        "    tnroots[l-1]=1j*2*np.cos(np.pi/((n/k)+1)*(l))\n",
        "  #print(tnroots)\n",
        "  zcheb = []  #upto this fine\n",
        "  c0=q[k]\n",
        "  for i in range(int(n/k)):\n",
        "    q[k]=c0+((cmath.sqrt(g))*tnroots[i])\n",
        "    \n",
        "    zcheb=np.concatenate((zcheb,-np.roots(q)))  \n",
        "  #print(g)\n",
        "  print(np.shape(zcheb))\n",
        "  return(zcheb)"
      ],
      "execution_count": 4,
      "outputs": []
    },
    {
      "cell_type": "code",
      "metadata": {
        "colab": {
          "base_uri": "https://localhost:8080/",
          "height": 332
        },
        "id": "9ewjvFxKHXUK",
        "outputId": "31aa81ff-d717-4277-de3d-a5ebf6a94aad"
      },
      "source": [
        "t=int(input(\"number of chains to be repeated=  \"))\n",
        "\n",
        "diag_k=np.loadtxt(\"diag_entries.txt\")   #diagonal entries\n",
        "u_k=np.loadtxt(\"upper_diag.txt\")        #upper diagonal\n",
        "l_k=(np.loadtxt(\"lower_diag.txt\"))        #lower diagonal\n",
        "A=k_toeplitz_matrix(diag_k,u_k,l_k,t)\n",
        "k=len(diag_k)\n",
        "  \n",
        "result=sc.eig(A)\n",
        "e1=result[0]  #eigen values by python inbuilt function\n",
        "\n",
        "zcheb1=chebeig(diag_k,u_k,l_k,k,t)        #eigen values of the matrix is approximated to chebyshev polynomials\n",
        "plt.plot(e1.real,e1.imag,\"*\",color=\"red\",label=\"python inbuilt function\") \n",
        "plt.plot(zcheb1.real,zcheb1.imag,\"*\",color=\"green\",label=\"zcheb approx\")\n",
        "plt.legend()\n",
        "plt.title(\"eigen values of k-toeplitz matrix\")\n",
        "plt.xlabel(\"real part of eigen value\")\n",
        "plt.ylabel(\"imaginary part of eigen value\")\n",
        "plt.show()"
      ],
      "execution_count": 6,
      "outputs": [
        {
          "output_type": "stream",
          "text": [
            "number of chains to be repeated=  10\n",
            "(30,)\n"
          ],
          "name": "stdout"
        },
        {
          "output_type": "display_data",
          "data": {
            "image/png": "[encoded data removed]",
            "text/plain": [
              "<Figure size 432x288 with 1 Axes>"
            ]
          },
          "metadata": {
            "tags": [],
            "needs_background": "light"
          }
        }
      ]
    }
  ]
}